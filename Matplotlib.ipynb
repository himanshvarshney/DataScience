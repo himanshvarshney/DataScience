{
 "cells": [
  {
   "cell_type": "code",
   "execution_count": 1,
   "metadata": {},
   "outputs": [],
   "source": [
    "from matplotlib import pyplot as plt\n",
    "import numpy as np\n",
    "#print(plt.style.available)\n",
    "#plt.style.use('fivethirtyeight')\n",
    "#plt.xkcd()\n",
    "width = .25"
   ]
  },
  {
   "cell_type": "code",
   "execution_count": 2,
   "metadata": {},
   "outputs": [],
   "source": [
    "dev_x = [25,26,27,28,29,30,31,32,33,34,35]\n",
    "x_indexes = np.arange(len(dev_x))\n",
    "dev_y = [38496,42000,46752,49320,53200,\n",
    "        56000,62316,64928,67317,68748,73752]\n",
    "\n",
    "py_dev_y=[45372,48876,53850,57287,63016,\n",
    "         65998,70003,70000,71496,75370,83640]\n",
    "\n",
    "js_dev_y =[37810,43515,46823,49293,53437,\n",
    "           56373,62375,66674,68745,68746,74583]"
   ]
  },
  {
   "cell_type": "code",
   "execution_count": 3,
   "metadata": {},
   "outputs": [
    {
     "data": {
      "text/plain": [
       "([<matplotlib.axis.XTick at 0x4881da8>,\n",
       "  <matplotlib.axis.XTick at 0x4881d90>,\n",
       "  <matplotlib.axis.XTick at 0x48813d0>,\n",
       "  <matplotlib.axis.XTick at 0x48e1958>,\n",
       "  <matplotlib.axis.XTick at 0x48e1be0>,\n",
       "  <matplotlib.axis.XTick at 0x48e1e68>,\n",
       "  <matplotlib.axis.XTick at 0x48f2118>,\n",
       "  <matplotlib.axis.XTick at 0x48f23a0>,\n",
       "  <matplotlib.axis.XTick at 0x48f2628>,\n",
       "  <matplotlib.axis.XTick at 0x48f28b0>,\n",
       "  <matplotlib.axis.XTick at 0x48f2b38>],\n",
       " [Text(0, 0, '25'),\n",
       "  Text(0, 0, '26'),\n",
       "  Text(0, 0, '27'),\n",
       "  Text(0, 0, '28'),\n",
       "  Text(0, 0, '29'),\n",
       "  Text(0, 0, '30'),\n",
       "  Text(0, 0, '31'),\n",
       "  Text(0, 0, '32'),\n",
       "  Text(0, 0, '33'),\n",
       "  Text(0, 0, '34'),\n",
       "  Text(0, 0, '35')])"
      ]
     },
     "execution_count": 3,
     "metadata": {},
     "output_type": "execute_result"
    },
    {
     "data": {
      "image/png": "[encoded data removed]",
      "text/plain": [
       "<Figure size 432x288 with 1 Axes>"
      ]
     },
     "metadata": {
      "needs_background": "light"
     },
     "output_type": "display_data"
    }
   ],
   "source": [
    "plt.bar(x_indexes-width,dev_y,width=width,color='k',label = 'All Dev')\n",
    "plt.xlabel('Ages')\n",
    "plt.ylabel('Median Salary(USD)')\n",
    "plt.title('Median Salary(USD) by Age')\n",
    "\n",
    "plt.bar(x_indexes,py_dev_y,width = width,color='b',label = 'Python')\n",
    "plt.xlabel('Ages')\n",
    "plt.ylabel('Median Salary(USD)')\n",
    "plt.title('Median Salary(USD) by Age')\n",
    "\n",
    "plt.bar(x_indexes+width,js_dev_y,width = width,color='#adad3b',label = 'JavaScript')\n",
    "plt.xlabel('Ages')\n",
    "plt.ylabel('Median Salary(USD)')\n",
    "plt.title('Median Salary(USD) by Age')\n",
    "\n",
    "plt.xticks(ticks = x_indexes, labels = dev_x)\n",
    "#plt.grid(True)\n",
    "#plt.legend(['All Dev','Python','JavaScript'])\n",
    "#plt.tight_layout()\n",
    "#plt.savefig('plot.png')\n"
   ]
  },
  {
   "cell_type": "code",
   "execution_count": 4,
   "metadata": {},
   "outputs": [
    {
     "ename": "NameError",
     "evalue": "name 'pd' is not defined",
     "output_type": "error",
     "traceback": [
      "\u001b[1;31m---------------------------------------------------------------------------\u001b[0m",
      "\u001b[1;31mNameError\u001b[0m                                 Traceback (most recent call last)",
      "\u001b[1;32m<ipython-input-4-be2db787df5e>\u001b[0m in \u001b[0;36m<module>\u001b[1;34m\u001b[0m\n\u001b[1;32m----> 1\u001b[1;33m \u001b[0mpd\u001b[0m\u001b[1;33m.\u001b[0m\u001b[0mread_csv\u001b[0m\u001b[1;33m(\u001b[0m\u001b[1;34m'TestData.csv'\u001b[0m\u001b[1;33m)\u001b[0m\u001b[1;33m\u001b[0m\u001b[1;33m\u001b[0m\u001b[0m\n\u001b[0m",
      "\u001b[1;31mNameError\u001b[0m: name 'pd' is not defined"
     ]
    }
   ],
   "source": [
    "pd.read_csv('TestData.csv')"
   ]
  },
  {
   "cell_type": "code",
   "execution_count": null,
   "metadata": {},
   "outputs": [],
   "source": []
  },
  {
   "cell_type": "code",
   "execution_count": null,
   "metadata": {},
   "outputs": [],
   "source": []
  },
  {
   "cell_type": "code",
   "execution_count": null,
   "metadata": {},
   "outputs": [],
   "source": []
  },
  {
   "cell_type": "code",
   "execution_count": null,
   "metadata": {},
   "outputs": [],
   "source": []
  },
  {
   "cell_type": "code",
   "execution_count": null,
   "metadata": {},
   "outputs": [],
   "source": []
  }
 ],
 "metadata": {
  "kernelspec": {
   "display_name": "Python 3",
   "language": "python",
   "name": "python3"
  },
  "language_info": {
   "codemirror_mode": {
    "name": "ipython",
    "version": 3
   },
   "file_extension": ".py",
   "mimetype": "text/x-python",
   "name": "python",
   "nbconvert_exporter": "python",
   "pygments_lexer": "ipython3",
   "version": "3.8.2"
  }
 },
 "nbformat": 4,
 "nbformat_minor": 4
}
